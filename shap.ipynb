{
 "cells": [
  {
   "cell_type": "code",
   "id": "66ff0bdd-ce80-4b9d-95b2-796c34de1246",
   "metadata": {
    "tags": []
   },
   "source": [
    "%matplotlib agg\n",
    "\n",
    "import pandas as pd\n",
    "import numpy as np\n",
    "import matplotlib as mpl\n",
    "import matplotlib.pyplot as plt\n",
    "\n",
    "from models import gen_pred_df, MODELS, X_COLS, TARGET_Y_COLS\n",
    "MODELS"
   ],
   "outputs": [],
   "execution_count": null
  },
  {
   "cell_type": "code",
   "id": "2146f95e-495d-4c43-a3b2-6b21c86985fa",
   "metadata": {
    "tags": []
   },
   "source": [
    "dataset_df = pd.read_csv('data/dataset.csv')\n",
    "dataset_df"
   ],
   "outputs": [],
   "execution_count": null
  },
  {
   "cell_type": "code",
   "id": "5013ecb4-21ad-4e2b-a5fa-7a8044815f0f",
   "metadata": {
    "tags": []
   },
   "source": [
    "import shap\n",
    "\n",
    "X_shap = dataset_df[X_COLS]"
   ],
   "outputs": [],
   "execution_count": null
  },
  {
   "cell_type": "code",
   "id": "d06d2fef-e75f-4c42-8774-6e3fbe5db2a7",
   "metadata": {
    "tags": []
   },
   "source": [
    "explainers = {}\n",
    "shap_values = {}\n",
    "\n",
    "import torch\n",
    "\n",
    "def get_shap(y, yg):\n",
    "    try:\n",
    "        if torch.get_num_interop_threads() > 1:\n",
    "            torch.set_num_interop_threads(1)\n",
    "        if torch.get_num_threads() > 1:\n",
    "            torch.set_num_threads(1)\n",
    "    except:\n",
    "        pass\n",
    "        \n",
    "    f = lambda x: gen_pred_df(x, targets=[yg])[y]\n",
    "    np.int = int\n",
    "    np.float = float\n",
    "    np.bool = bool\n",
    "    explainer = shap.explainers.Sampling(f, X_shap, seed=0)\n",
    "    shap_value = explainer(X_shap, nsamples=8192 * 4)\n",
    "    return y, explainer, shap_value\n",
    "\n",
    "\n",
    "jobs = []\n",
    "for yg in TARGET_Y_COLS.keys():\n",
    "    for y in TARGET_Y_COLS[yg]:\n",
    "        jobs.append((y, yg))\n",
    "\n",
    "from joblib import Parallel, delayed\n",
    "results = Parallel(n_jobs=6, backend='loky')(delayed(get_shap)(*j) for j in jobs)\n",
    "\n",
    "explainers = {y: e for y, e, v in results}\n",
    "shap_values = {y: v for y, e, v in results}\n"
   ],
   "outputs": [],
   "execution_count": null
  },
  {
   "metadata": {},
   "cell_type": "markdown",
   "source": "### Plot SHAP values for Top 5 and Bottom 5 features",
   "id": "2d9af034139e8777"
  },
  {
   "cell_type": "code",
   "id": "8b40c855-848c-4151-aba8-c81ace2ca418",
   "metadata": {
    "scrolled": true,
    "tags": []
   },
   "source": [
    "from patched_summary_plot import summary_legacy\n",
    "\n",
    "plt.close('all')\n",
    "\n",
    "params = {\n",
    "   'axes.labelsize': 14,\n",
    "   'font.size': 14,\n",
    "   'font.family': \"Arial\",\n",
    "   'legend.fontsize': 12,\n",
    "   'xtick.labelsize': 12,\n",
    "   'ytick.labelsize': 12,\n",
    "   'figure.dpi': 300,\n",
    "}\n",
    "mpl.rcParams.update(params)\n",
    "mpl.rcParams['font.size'] = 12\n",
    "mpl.rcParams['font.family'] = 'Arial'\n",
    "mpl.rcParams['mathtext.default'] = 'it'\n",
    "\n",
    "\n",
    "Y_MATH_SYMS = {'Detachability': 'Detachability',\n",
    " 'FlatnessUni': 'Flatness',\n",
    " 'Feasibility': 'Feasibility',\n",
    " 'TensileStrength': '$\\sigma_{u}$',\n",
    " 'TensileStrain': '$\\epsilon_f$', \n",
    " 'TensileModulusLog10': '$E$',\n",
    " 'TensileSED': '$g_{se}$',\n",
    " 'TransVis': '$T_{Vis}$',\n",
    " 'TransIR': '$T_{IR}$',\n",
    " 'TransUV': '$T_{UV}$',\n",
    " 'FireRR': '$RR$'\n",
    "}\n",
    "\n",
    "import copy\n",
    "\n",
    "for group_name, ys in TARGET_Y_COLS.items():\n",
    "    for y in ys:\n",
    "        y_sym = Y_MATH_SYMS[y]\n",
    "        plt.close('all')\n",
    "\n",
    "        sub_shap_values = copy.deepcopy(shap_values[y])\n",
    "\n",
    "        vmax = np.abs(sub_shap_values.values).max()\n",
    "        sub_shap_values.values = sub_shap_values.values / vmax\n",
    "        sub_shap_values.base_values = sub_shap_values.base_values / vmax\n",
    "\n",
    "        shap_df = pd.DataFrame(sub_shap_values.values, columns=sub_shap_values.feature_names)\n",
    "        pos_5 = shap_df[shap_df > 0.01].mean().sort_values(ascending=False)[:5]\n",
    "        pos_5_ids = [sub_shap_values.feature_names.index(c) for c in reversed(pos_5.index)]\n",
    "        \n",
    "        neg_5 = shap_df[shap_df < -0.01].mean().sort_values(ascending=True)[:5]\n",
    "        neg_5_ids = [sub_shap_values.feature_names.index(c) for c in reversed(neg_5.index)]\n",
    "\n",
    "        plt.close('all')\n",
    "        summary_legacy(sub_shap_values, show=False, sort=True, max_display=5, color_bar_label='Material Composition (%)',\n",
    "                       feature_order=list(reversed(pos_5_ids + neg_5_ids))\n",
    "                      )\n",
    "        plt.xlabel(f'SHAP Value on {y_sym}')\n",
    "        plt.gcf().savefig(f'shap.{group_name}.{y}.val-order.top-5-bot-5.pdf')"
   ],
   "outputs": [],
   "execution_count": null
  }
 ],
 "metadata": {
  "kernelspec": {
   "display_name": "Python 3 (ipykernel)",
   "language": "python",
   "name": "python3"
  },
  "language_info": {
   "codemirror_mode": {
    "name": "ipython",
    "version": 3
   },
   "file_extension": ".py",
   "mimetype": "text/x-python",
   "name": "python",
   "nbconvert_exporter": "python",
   "pygments_lexer": "ipython3",
   "version": "3.10.10"
  }
 },
 "nbformat": 4,
 "nbformat_minor": 5
}
